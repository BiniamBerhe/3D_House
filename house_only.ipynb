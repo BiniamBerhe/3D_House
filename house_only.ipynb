{
 "cells": [
  {
   "cell_type": "code",
   "execution_count": 1,
   "metadata": {},
   "outputs": [
    {
     "name": "stderr",
     "output_type": "stream",
     "text": [
      "QSocketNotifier: Can only be used with threads started with QThread\n"
     ]
    }
   ],
   "source": [
    "import os\n",
    "import pandas as pd\n",
    "\n",
    "from glob import glob  \n",
    "from natsort import natsorted, ns\n",
    "\n",
    "import geopy\n",
    "import folium\n",
    "from geopy.geocoders import Nominatim\n",
    "from geopy.extra.rate_limiter import RateLimiter\n",
    "\n",
    "import rasterio  \n",
    "from rasterio.plot import show\n",
    "from pyproj import Transformer\n",
    "#from rasterio.windows import Window\n",
    "import rioxarray \n",
    "\n",
    "import imageio\n",
    "import numpy as np\n",
    "import matplotlib.pyplot as plt\n",
    "from mpl_toolkits.mplot3d import Axes3D\n",
    "\n",
    "from osgeo import gdal\n",
    "from mayavi import mlab\n",
    "\n",
    "import webbrowser\n",
    "from IPython.display import Image\n"
   ]
  },
  {
   "cell_type": "code",
   "execution_count": null,
   "metadata": {},
   "outputs": [],
   "source": [
    "#address = \"Gramyelaan 24 2960 Brecht\"\n",
    "#Provide an address with the format 'street name with number', 'postcode' and city'\n",
    "address = input(\"Please Provide House Addres Here: \")"
   ]
  },
  {
   "cell_type": "code",
   "execution_count": null,
   "metadata": {},
   "outputs": [],
   "source": [
    "def get_coordinates(address: str) -> float:\n",
    "        \"\"\"Function to get address coordinate and\n",
    "            plot it on a map\"\"\"\n",
    "\n",
    "        geolocator = Nominatim(user_agent=\"3D_house_app\")\n",
    "        location = geolocator.geocode(address)\n",
    "        location.latitude, location.longitude\n",
    "        location_lat_long = [location.latitude, location.longitude]\n",
    "        return location_lat_long\n",
    "        \n",
    "def plot_address(fn):\n",
    "    location_map = folium.Map(location=fn, zoom_start=25)\n",
    "    folium.Marker(location=fn, popup=fn).add_to(location_map)\n",
    "    location_map\n",
    "    return location_map\n",
    "plot_address(get_coordinates(address))"
   ]
  },
  {
   "cell_type": "code",
   "execution_count": null,
   "metadata": {},
   "outputs": [],
   "source": [
    "latitude,longitude = get_coordinates(address)\n",
    "latitude,longitude"
   ]
  },
  {
   "cell_type": "code",
   "execution_count": null,
   "metadata": {},
   "outputs": [],
   "source": [
    "def transform_address(x,y):\n",
    "    # transform to Belgium 'EPSG:31370' coordinate\n",
    "    transformer = Transformer.from_crs(\"EPSG:4326\", crs_to = 'EPSG:31370' ,always_xy=True)\n",
    "    lat, lon = transformer.transform(longitude, latitude)\n",
    "    return lat,lon"
   ]
  },
  {
   "cell_type": "code",
   "execution_count": null,
   "metadata": {},
   "outputs": [],
   "source": [
    "lat,lon = transform_address(latitude,longitude)"
   ]
  },
  {
   "cell_type": "code",
   "execution_count": null,
   "metadata": {},
   "outputs": [],
   "source": [
    "address_path = './House_address/Belgium_houses_address.csv'"
   ]
  },
  {
   "cell_type": "code",
   "execution_count": null,
   "metadata": {},
   "outputs": [],
   "source": [
    "def get_coordinate_df(path,address):\n",
    "    \n",
    "    index = []\n",
    "    \n",
    "    df = pd.read_csv(path)\n",
    "    \n",
    "    for i in range(df.shape[0]):\n",
    "\n",
    "        if df['Address'][i] == address :\n",
    "            index.append(i)\n",
    "            break\n",
    "        continue\n",
    "\n",
    "    xx, yy = df['EPSG:31370_x'][index][index[0]] ,df['EPSG:31370_y'][index][index[0]] \n",
    "\n",
    "    lat, lon = df['EPSG:4326_lat'][index][index[0]] ,df['EPSG:4326_lon'][index][index[0]] \n",
    "    \n",
    "    return (xx, yy) , (lat, lon)"
   ]
  },
  {
   "cell_type": "code",
   "execution_count": null,
   "metadata": {},
   "outputs": [],
   "source": [
    "(xx, yy) , (lat, lon) = get_coordinate_df(address_path,address)"
   ]
  },
  {
   "cell_type": "code",
   "execution_count": null,
   "metadata": {},
   "outputs": [],
   "source": [
    "def get_tif(path):\n",
    "    #Function to get all tif files and sort them\n",
    "    tif_file =[]\n",
    "    files = glob(path,recursive = True) \n",
    "    for file in files: \n",
    "        tif_file.append(file)\n",
    "    tif_file = natsorted(tif_file, alg=ns.IGNORECASE)\n",
    "    return tif_file"
   ]
  },
  {
   "cell_type": "code",
   "execution_count": null,
   "metadata": {},
   "outputs": [],
   "source": [
    "dsm_path = './Map_files/DSM/**/*.tif'\n",
    "DSM_tif = get_tif(dsm_path)\n",
    "DSM_tif[:3]"
   ]
  },
  {
   "cell_type": "code",
   "execution_count": null,
   "metadata": {},
   "outputs": [],
   "source": [
    "dtm_path = './Map_files/DTM/**/*.tif'\n",
    "DTM_tif = get_tif(dtm_path)\n",
    "DTM_tif[:3]"
   ]
  },
  {
   "cell_type": "code",
   "execution_count": null,
   "metadata": {},
   "outputs": [],
   "source": [
    "bounds = []\n",
    "for i in DSM_tif:\n",
    "    src = rasterio.open(i)\n",
    "    bounds.append(src.bounds)\n",
    "bounds[:3]"
   ]
  },
  {
   "cell_type": "code",
   "execution_count": null,
   "metadata": {},
   "outputs": [],
   "source": [
    "found_tif_path = []\n",
    "for i,bound in enumerate(bounds,1):\n",
    "    if (xx >= bound[0] and xx <= bound[2]) & \\\n",
    "        (yy >= bound[1] and yy <= bound[3]):\n",
    "        found_tif_path.append('./Map_files/DSM/DHMVIIDSMRAS1m_k0'+ str(i) +'/GeoTIFF/DHMVIIDSMRAS1m_k0'+ str(i) + '.tif')\n",
    "        print('The house is located in this tif :', 'DHMVIIDSMRAS1m_k0' + str(i) + '.tif')\n",
    "    else:\n",
    "        None"
   ]
  },
  {
   "cell_type": "code",
   "execution_count": null,
   "metadata": {},
   "outputs": [],
   "source": [
    "found_tif_path [0]"
   ]
  },
  {
   "cell_type": "code",
   "execution_count": null,
   "metadata": {},
   "outputs": [],
   "source": [
    "rast_df = rioxarray.open_rasterio(found_tif_path[0],masked=True,chunks=True)"
   ]
  },
  {
   "cell_type": "code",
   "execution_count": null,
   "metadata": {},
   "outputs": [],
   "source": [
    "n = 20\n",
    "coor1,coor2 = [(xx-n),(yy+n)],[(xx+n),(yy+n)]\n",
    "coor3,coor4 = [(xx+n),(yy-n)] ,[(xx-n),(yy-n)]\n",
    "geometries = [ {'type': 'Polygon', 'coordinates': [[coor1,coor2, coor3,coor4,coor1 ]]}]"
   ]
  },
  {
   "cell_type": "code",
   "execution_count": null,
   "metadata": {},
   "outputs": [],
   "source": [
    "clipped = rast_df.rio.clip(geometries)"
   ]
  },
  {
   "cell_type": "code",
   "execution_count": null,
   "metadata": {},
   "outputs": [],
   "source": [
    "clipped.plot()"
   ]
  },
  {
   "cell_type": "code",
   "execution_count": null,
   "metadata": {},
   "outputs": [],
   "source": [
    "path = clipped.rio.to_raster(address +\"_farrrr_dsm.tif\",tiled=True, dtype=\"int32\")"
   ]
  },
  {
   "cell_type": "code",
   "execution_count": null,
   "metadata": {},
   "outputs": [],
   "source": [
    "chm = imageio.imread(address +\"_farrrr_dsm.tif\")"
   ]
  },
  {
   "cell_type": "code",
   "execution_count": null,
   "metadata": {},
   "outputs": [],
   "source": [
    "nx,ny = chm.shape\n",
    "size=100\n",
    "x = np.linspace(0, size*2, nx)\n",
    "y = np.linspace(0, size*2, ny)\n",
    "yv,xv = np.meshgrid(x, y)\n",
    "fig = plt.figure(figsize=(15,15))\n",
    "ax = fig.add_subplot(111, projection='3d')\n",
    "chm3d=ax.plot_surface(xv,yv,chm,cmap='plasma',linewidth=0)\n",
    "ax.set_title('CHM(Canopy Height Model)')\n",
    "ax.set_xlabel('Distance (m)')\n",
    "ax.set_ylabel('Distance (m)')\n",
    "ax.set_zlabel('Elevation (m)')\n",
    "ax.view_init(azim=35)\n",
    "fig.colorbar(chm3d, shrink=0.3, aspect=10)\n",
    "fig.savefig(address +'_3D.png', dpi=200) \n",
    "plt.show()"
   ]
  },
  {
   "cell_type": "code",
   "execution_count": null,
   "metadata": {},
   "outputs": [],
   "source": [
    "import gemgis as gg\n",
    "import pyvista as pv\n",
    "\n",
    "fb = r'Gramyelaan 24 2960 Brecht_farrrr_dsm.tif'\n",
    "mesh = gg.visualization.read_raster(path=fb,nodata_val=9999.0,name='Elevation [m]')"
   ]
  },
  {
   "cell_type": "code",
   "execution_count": null,
   "metadata": {},
   "outputs": [],
   "source": [
    "topo = mesh.warp_by_scalar(scalars=\"Elevation [m]\", factor=5.5)\n",
    "\n",
    "sargs = dict(height=0.2, vertical=True, position_x=0.005, position_y=0.005)\n",
    "#sargs = dict(interactive=True)\n",
    "\n",
    "p = pv.Plotter(notebook=True)\n",
    "p.add_mesh(mesh=topo, cmap='plasma', scalar_bar_args=sargs, clim=[-0, 40])\n",
    "#p.add_mesh(mesh=topo, cmap='gist_ncar', scalar_bar_args=sargs, clim=[-0, 40])\n",
    "p.set_background('black')\n",
    "p.show_grid(color='black')\n",
    "p.show()\n",
    "# Remove from plotters so output is not produced in docs\n",
    "pv.plotting._ALL_PLOTTERS.clear()"
   ]
  },
  {
   "cell_type": "code",
   "execution_count": null,
   "metadata": {},
   "outputs": [],
   "source": []
  }
 ],
 "metadata": {
  "interpreter": {
   "hash": "f20e13e9817147afb08399914a96bae58a47faac0b58983b8e43626d471c5a5f"
  },
  "kernelspec": {
   "display_name": "Python 3.8.12 ('pygdal38')",
   "language": "python",
   "name": "python3"
  },
  "language_info": {
   "codemirror_mode": {
    "name": "ipython",
    "version": 3
   },
   "file_extension": ".py",
   "mimetype": "text/x-python",
   "name": "python",
   "nbconvert_exporter": "python",
   "pygments_lexer": "ipython3",
   "version": "3.8.12"
  },
  "orig_nbformat": 4
 },
 "nbformat": 4,
 "nbformat_minor": 2
}
