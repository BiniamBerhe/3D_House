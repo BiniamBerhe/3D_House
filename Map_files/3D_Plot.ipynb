{
 "cells": [
  {
   "cell_type": "code",
   "execution_count": 10,
   "id": "e7cc4379",
   "metadata": {},
   "outputs": [
    {
     "ename": "ImportError",
     "evalue": "cannot import name 'Transformer' from 'pyproj' (/home/biniam/anaconda3/envs/pygeo/lib/python3.8/site-packages/pyproj/__init__.py)",
     "output_type": "error",
     "traceback": [
      "\u001b[0;31m---------------------------------------------------------------------------\u001b[0m",
      "\u001b[0;31mImportError\u001b[0m                               Traceback (most recent call last)",
      "Input \u001b[0;32mIn [10]\u001b[0m, in \u001b[0;36m<cell line: 13>\u001b[0;34m()\u001b[0m\n\u001b[1;32m     11\u001b[0m \u001b[38;5;28;01mimport\u001b[39;00m \u001b[38;5;21;01mrasterio\u001b[39;00m  \n\u001b[1;32m     12\u001b[0m \u001b[38;5;28;01mfrom\u001b[39;00m \u001b[38;5;21;01mrasterio\u001b[39;00m\u001b[38;5;21;01m.\u001b[39;00m\u001b[38;5;21;01mplot\u001b[39;00m \u001b[38;5;28;01mimport\u001b[39;00m show\n\u001b[0;32m---> 13\u001b[0m \u001b[38;5;28;01mfrom\u001b[39;00m \u001b[38;5;21;01mpyproj\u001b[39;00m \u001b[38;5;28;01mimport\u001b[39;00m Transformer\n\u001b[1;32m     14\u001b[0m \u001b[38;5;28;01mfrom\u001b[39;00m \u001b[38;5;21;01mrasterio\u001b[39;00m\u001b[38;5;21;01m.\u001b[39;00m\u001b[38;5;21;01mwindows\u001b[39;00m \u001b[38;5;28;01mimport\u001b[39;00m Window\n\u001b[1;32m     15\u001b[0m \u001b[38;5;28;01mimport\u001b[39;00m \u001b[38;5;21;01mrioxarray\u001b[39;00m \n",
      "\u001b[0;31mImportError\u001b[0m: cannot import name 'Transformer' from 'pyproj' (/home/biniam/anaconda3/envs/pygeo/lib/python3.8/site-packages/pyproj/__init__.py)"
     ]
    }
   ],
   "source": [
    "import pandas as pd\n",
    "\n",
    "from glob import glob  \n",
    "from natsort import natsorted, ns\n",
    "\n",
    "import geopy\n",
    "import folium\n",
    "from geopy.geocoders import Nominatim\n",
    "from geopy.extra.rate_limiter import RateLimiter\n",
    "\n",
    "import rasterio  \n",
    "from rasterio.plot import show\n",
    "from pyproj import Transformer\n",
    "from rasterio.windows import Window\n",
    "import rioxarray \n",
    "\n",
    "import imageio\n",
    "import numpy as np\n",
    "import matplotlib.pyplot as plt\n",
    "from mpl_toolkits.mplot3d import Axes3D\n",
    "\n",
    "# To display interactive plot\n",
    "# %matplotlib notebook\n",
    "# To display static plot below the code block\n",
    "%matplotlib inline"
   ]
  },
  {
   "cell_type": "code",
   "execution_count": null,
   "id": "f83320ac",
   "metadata": {},
   "outputs": [],
   "source": [
    "address = \"Gramyelaan 24 2960 Brecht\"\n",
    "#Provide an address with the format 'street name with number', 'postcode' and city'\n",
    "#address = input(\"Please Provide House Addres Here: \")\n",
    "#address = \"Rue Brogniez 158 1070 Anderlecht\""
   ]
  },
  {
   "cell_type": "markdown",
   "id": "8df7be8a",
   "metadata": {},
   "source": [
    "### Locate address on the map and plot it using folium"
   ]
  },
  {
   "cell_type": "code",
   "execution_count": null,
   "id": "62c7f610",
   "metadata": {},
   "outputs": [],
   "source": [
    "def get_coordinates(address: str) -> float:\n",
    "        \"\"\"Function to get address coordinate\n",
    "            plot it on a map\"\"\"\n",
    "\n",
    "        geolocator = Nominatim(user_agent=\"3D_house_app\")\n",
    "        location = geolocator.geocode(address)\n",
    "        location.latitude, location.longitude\n",
    "        location_lat_long = [location.latitude, location.longitude]\n",
    "        return location_lat_long\n",
    "        \n",
    "def plot_address(address):\n",
    "    \"\"\"plot the address on a map\"\"\"\n",
    "    geolocator = Nominatim(user_agent=\"3D_house_app\")\n",
    "    location = geolocator.geocode(address)\n",
    "    location.latitude, location.longitude\n",
    "    location_lat_long = [location.latitude, location.longitude]\n",
    "    location_map = folium.Map(location=location_lat_long, zoom_start=25)\n",
    "    folium.Marker(location=location_lat_long, popup=location_lat_long).add_to(location_map)\n",
    "    return location_map \n",
    "plot_address(address)"
   ]
  },
  {
   "cell_type": "code",
   "execution_count": null,
   "id": "4f4ff1b4",
   "metadata": {},
   "outputs": [],
   "source": [
    "latitude,longitude = get_coordinates(address)\n",
    "latitude,longitude"
   ]
  },
  {
   "cell_type": "markdown",
   "id": "b9ea1c5b",
   "metadata": {},
   "source": [
    "### Transform to Belgium 'EPSG:31370' coordinate"
   ]
  },
  {
   "cell_type": "code",
   "execution_count": null,
   "id": "fbc21928",
   "metadata": {},
   "outputs": [],
   "source": [
    "def transform_address(x,y):\n",
    "    transformer = Transformer.from_crs(\"EPSG:4326\", crs_to = 'EPSG:31370' ,always_xy=True)\n",
    "    lat, lon = transformer.transform(longitude, latitude)\n",
    "    return lat,lon"
   ]
  },
  {
   "cell_type": "code",
   "execution_count": null,
   "id": "1dbe81b6",
   "metadata": {},
   "outputs": [],
   "source": [
    "#xx,yy = transform_address(latitude,longitude)"
   ]
  },
  {
   "cell_type": "markdown",
   "id": "839bf7b7",
   "metadata": {},
   "source": [
    "### Get coordinates from Belgium_houses_address.csv"
   ]
  },
  {
   "cell_type": "code",
   "execution_count": null,
   "id": "fe180259",
   "metadata": {},
   "outputs": [],
   "source": [
    "address_csv = './House_address/Belgium_houses_address.csv'"
   ]
  },
  {
   "cell_type": "code",
   "execution_count": null,
   "id": "4753d81e",
   "metadata": {},
   "outputs": [],
   "source": [
    "index = []\n",
    "df = pd.read_csv(address_csv)\n",
    "for i in range(df.shape[0]):\n",
    "    if df['Address'][i] == address :\n",
    "        index.append(i)\n",
    "        break\n",
    "    continue\n",
    "x = df['EPSG:31370_x'][index][index[0]]\n",
    "y = df['EPSG:31370_y'][index][index[0]] \n",
    "lat = df['EPSG:4326_lat'][index][index[0]]\n",
    "lon = df['EPSG:4326_lon'][index][index[0]]"
   ]
  },
  {
   "cell_type": "markdown",
   "id": "eb760c43",
   "metadata": {},
   "source": [
    "### Read tiff files from specified path"
   ]
  },
  {
   "cell_type": "code",
   "execution_count": null,
   "id": "5a9669a6",
   "metadata": {},
   "outputs": [],
   "source": [
    "def get_tif(path):\n",
    "    #Function to get all tif files and sort them\n",
    "    tif_file =[]\n",
    "    files = glob(path,recursive = True) \n",
    "    for file in files: \n",
    "        tif_file.append(file)\n",
    "    tif_file = natsorted(tif_file, alg=ns.IGNORECASE)\n",
    "    return tif_file"
   ]
  },
  {
   "cell_type": "code",
   "execution_count": null,
   "id": "679c75fa",
   "metadata": {},
   "outputs": [],
   "source": [
    "dsm_path = './Map_files/DSM/**/*.tif'\n",
    "DSM_tif = get_tif(dsm_path)\n",
    "DSM_tif[:3]"
   ]
  },
  {
   "cell_type": "code",
   "execution_count": null,
   "id": "13ea1694",
   "metadata": {},
   "outputs": [],
   "source": [
    "dtm_path = './Map_files/DTM/**/*.tif'\n",
    "DTM_tif = get_tif(dtm_path)\n",
    "DTM_tif[:3]"
   ]
  },
  {
   "cell_type": "markdown",
   "id": "8664b6b7",
   "metadata": {},
   "source": [
    "### Get bounds from tiff files"
   ]
  },
  {
   "cell_type": "code",
   "execution_count": null,
   "id": "c9538406",
   "metadata": {},
   "outputs": [],
   "source": [
    "tif_bounds = []\n",
    "for i in DSM_tif:\n",
    "    src = rasterio.open(i)\n",
    "    tif_bounds.append(src.bounds)"
   ]
  },
  {
   "cell_type": "markdown",
   "id": "68dbd7c5",
   "metadata": {},
   "source": [
    "### Check in which tiff the address is located for DSM & DTM"
   ]
  },
  {
   "cell_type": "code",
   "execution_count": null,
   "id": "2a44e2fd",
   "metadata": {},
   "outputs": [],
   "source": [
    "found_DSM_path = []\n",
    "found_DTM_path = []\n",
    "for i,bound in enumerate(tif_bounds,1):\n",
    "    if (x >= bound[0] and x <= bound[2]) & \\\n",
    "        (y >= bound[1] and y <= bound[3]):\n",
    "        if i<=9:\n",
    "            found_DSM_path.append('./Map_files/DSM/DHMVIIDSMRAS1m_k0'+ str(i) +'/GeoTIFF/DHMVIIDSMRAS1m_k0'+ str(i) + '.tif')\n",
    "            found_DTM_path.append('./Map_files/DTM/DHMVIIDTMRAS1m_k0'+ str(i) +'/GeoTIFF/DHMVIIDTMRAS1m_k0'+ str(i) + '.tif')\n",
    "            print('Tif location: ', 'DHMVIIDSMRAS1m_k0' + str(i) + '.tif')\n",
    "        else:\n",
    "            found_DSM_path.append('./Map_files/DSM/DHMVIIDSMRAS1m_k'+ str(i) +'/GeoTIFF/DHMVIIDSMRAS1m_k'+ str(i) + '.tif')\n",
    "            found_DTM_path.append('./Map_files/DTM/DHMVIIDTMRAS1m_k'+ str(i) +'/GeoTIFF/DHMVIIDTMRAS1m_k'+ str(i) + '.tif')\n",
    "            print('Tif location: ', 'DHMVIIDSMRAS1m_k' + str(i) + '.tif')\n",
    "    else:None"
   ]
  },
  {
   "cell_type": "markdown",
   "id": "3f287276",
   "metadata": {},
   "source": [
    "### Read the found tiff in to rasterio df"
   ]
  },
  {
   "cell_type": "code",
   "execution_count": null,
   "id": "28be2a2f",
   "metadata": {},
   "outputs": [],
   "source": [
    "rast_dsm_df = rioxarray.open_rasterio(found_DSM_path[0],masked=True,chunks=True)"
   ]
  },
  {
   "cell_type": "code",
   "execution_count": null,
   "id": "f9333981",
   "metadata": {},
   "outputs": [],
   "source": [
    "rast_dtm_df = rioxarray.open_rasterio(found_DTM_path[0],masked=True,chunks=True)"
   ]
  },
  {
   "cell_type": "markdown",
   "id": "107eb5a1",
   "metadata": {},
   "source": [
    "### Set window size and get geometries"
   ]
  },
  {
   "cell_type": "code",
   "execution_count": null,
   "id": "7b02d665",
   "metadata": {},
   "outputs": [],
   "source": [
    "n = 17\n",
    "left,bottom = [(x-n),(y+n)],[(x+n),(y+n)]\n",
    "right,top = [(x+n),(y-n)] ,[(x-n),(y-n)]\n",
    "geometries = [ {'type': 'Polygon', 'coordinates': [[left,bottom, right,top,left]]}]"
   ]
  },
  {
   "cell_type": "markdown",
   "id": "fea60a4f",
   "metadata": {},
   "source": [
    "### Clip DSM and DTM"
   ]
  },
  {
   "cell_type": "code",
   "execution_count": null,
   "id": "d9c1a4cc",
   "metadata": {},
   "outputs": [],
   "source": [
    "clipped_dsm = rast_dsm_df.rio.clip(geometries)"
   ]
  },
  {
   "cell_type": "code",
   "execution_count": null,
   "id": "f711197d",
   "metadata": {},
   "outputs": [],
   "source": [
    "clipped_dtm = rast_dtm_df.rio.clip(geometries)"
   ]
  },
  {
   "cell_type": "markdown",
   "id": "cb539877",
   "metadata": {},
   "source": [
    "### Plot clipped DSM & DTM"
   ]
  },
  {
   "cell_type": "code",
   "execution_count": null,
   "id": "0b91123a",
   "metadata": {},
   "outputs": [],
   "source": [
    "clipped_dsm.plot()"
   ]
  },
  {
   "cell_type": "code",
   "execution_count": null,
   "id": "60b12a6f",
   "metadata": {},
   "outputs": [],
   "source": [
    "clipped_dtm.plot()"
   ]
  },
  {
   "cell_type": "markdown",
   "id": "7c5be250",
   "metadata": {},
   "source": [
    "### Save clipped DSM & DTM"
   ]
  },
  {
   "cell_type": "code",
   "execution_count": null,
   "id": "1a54fd5d",
   "metadata": {},
   "outputs": [],
   "source": [
    "clipped_dsm.rio.to_raster(address +\"_dsm.tif\",tiled=True, dtype=\"int32\")"
   ]
  },
  {
   "cell_type": "code",
   "execution_count": null,
   "id": "443b8b6f",
   "metadata": {},
   "outputs": [],
   "source": [
    "clipped_dtm.rio.to_raster(address +\"_dtm.tif\",tiled=True, dtype=\"int32\")"
   ]
  },
  {
   "cell_type": "markdown",
   "id": "541d2f2a",
   "metadata": {},
   "source": [
    "### Read saved tif files using imageio"
   ]
  },
  {
   "cell_type": "code",
   "execution_count": null,
   "id": "ff731369",
   "metadata": {},
   "outputs": [],
   "source": [
    "img_dsm= imageio.imread(address +\"_dsm.tif\")"
   ]
  },
  {
   "cell_type": "code",
   "execution_count": null,
   "id": "4277dece",
   "metadata": {},
   "outputs": [],
   "source": [
    "img_dtm = imageio.imread(address +\"_dtm.tif\")"
   ]
  },
  {
   "cell_type": "markdown",
   "id": "490f722f",
   "metadata": {},
   "source": [
    "### Plot clipped DSM tif using matplotlib"
   ]
  },
  {
   "cell_type": "code",
   "execution_count": null,
   "id": "e43272ca",
   "metadata": {},
   "outputs": [],
   "source": [
    "nx,ny = img_dsm.shape\n",
    "size=10\n",
    "x = np.linspace(0, size*2, nx)\n",
    "y = np.linspace(0, size*2, ny)\n",
    "ym,xm = np.meshgrid(x, y)\n",
    "fig = plt.figure(figsize=(15,15))\n",
    "ax = fig.add_subplot(111, projection='3d')\n",
    "chm3ddsm=ax.plot_surface(xm,ym,img_dsm,cmap='copper',linewidth=0)\n",
    "ax.set_title('CHM(Canopy Height Model)')\n",
    "ax.set_xlabel('Distance (m)')\n",
    "ax.set_ylabel('Distance (m)')\n",
    "ax.set_zlabel('Elevation (m)')\n",
    "ax.view_init(azim=45)\n",
    "fig.colorbar(chm3ddsm, shrink=0.2, aspect=10)\n",
    "plt.show()"
   ]
  },
  {
   "cell_type": "markdown",
   "id": "b1ea79bd",
   "metadata": {},
   "source": [
    "### Calculate CHM (Canopy height)"
   ]
  },
  {
   "cell_type": "code",
   "execution_count": null,
   "id": "395b445d",
   "metadata": {},
   "outputs": [],
   "source": [
    "with rasterio.open(address +\"_dsm.tif\") as src:\n",
    "    lidar_dsm_im = src.read(1, masked=True)\n",
    "    dtm_meta = src.profile\n",
    "\n",
    "with rasterio.open(address +\"_dtm.tif\") as src:\n",
    "    lidar_dtm_im = src.read(1, masked=True)\n",
    "    dsm_meta = src.profile\n",
    "    \n",
    "lidar_chm = lidar_dsm_im - lidar_dtm_im\n",
    "    \n",
    "with rasterio.open(address +'_chm.tif', 'w', **dsm_meta) as ff:\n",
    "    ff.write(lidar_chm,1)\n",
    "        \n",
    "chm_tif = address +'_chm.tif'"
   ]
  },
  {
   "cell_type": "markdown",
   "id": "1fe9138a",
   "metadata": {},
   "source": [
    "### Plot CHM using matplotlib and save it"
   ]
  },
  {
   "cell_type": "code",
   "execution_count": null,
   "id": "55f3625b",
   "metadata": {},
   "outputs": [],
   "source": [
    "# Each chm is a numpy matrix\n",
    "chm = imageio.imread(chm_tif)\n",
    "\n",
    "nx,ny = chm.shape\n",
    "size = 20\n",
    "x = np.linspace(0, size*2, nx)\n",
    "y = np.linspace(0, size*2, ny)\n",
    "\n",
    "yv,xv = np.meshgrid(x, y)\n",
    "\n",
    "fig = plt.figure(figsize=(15,15))\n",
    "ax = fig.add_subplot(111, projection='3d')\n",
    "\n",
    "chm3d=ax.plot_surface(yv,xv,chm,cmap=\"copper\",linewidth=10)\n",
    "ax.set_title('CHM(Canopy Height Model)')\n",
    "ax.set_xlabel('Distance (m)')\n",
    "ax.set_ylabel('Distance (m)')\n",
    "ax.set_zlabel('Elevation (m)')\n",
    "ax.view_init(azim=45)\n",
    "        \n",
    "fig.colorbar(chm3d, shrink=0.3, aspect=10);\n",
    "fig.savefig(address +'_3D.png', dpi=200) \n",
    "plt.show()"
   ]
  },
  {
   "cell_type": "markdown",
   "id": "c8f67d8b",
   "metadata": {},
   "source": [
    "### Plot CHM using plotly and save it"
   ]
  },
  {
   "cell_type": "code",
   "execution_count": null,
   "id": "bdae3c9f",
   "metadata": {},
   "outputs": [],
   "source": [
    "import plotly.graph_objects as go\n",
    "def final_plot(ds_chm):\n",
    "        fig = go.Figure(data=[go.Surface(z=ds_chm)])\n",
    "        fig.update_layout(title='CHM', autosize=False, width=1000, height=900)\n",
    "        fig.write_html(\"./cropped_tifs/file.html\")\n",
    "        fig.show()"
   ]
  }
 ],
 "metadata": {
  "kernelspec": {
   "display_name": "pygeo-kernel",
   "language": "python",
   "name": "pygeo-kernel"
  },
  "language_info": {
   "codemirror_mode": {
    "name": "ipython",
    "version": 3
   },
   "file_extension": ".py",
   "mimetype": "text/x-python",
   "name": "python",
   "nbconvert_exporter": "python",
   "pygments_lexer": "ipython3",
   "version": "3.8.12"
  }
 },
 "nbformat": 4,
 "nbformat_minor": 5
}
